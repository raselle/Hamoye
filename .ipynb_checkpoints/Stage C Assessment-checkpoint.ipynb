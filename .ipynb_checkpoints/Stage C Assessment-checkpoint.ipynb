{
 "cells": [
  {
   "cell_type": "code",
   "execution_count": 1,
   "id": "4a1cf769",
   "metadata": {},
   "outputs": [],
   "source": [
    "import numpy as np\n",
    "import pandas as pd\n",
    "import matplotlib.pyplot as plt\n",
    "\n",
    "from sklearn.ensemble import ExtraTreesClassifier\n",
    "from sklearn.model_selection import * \n",
    "from sklearn.preprocessing import StandardScaler\n",
    "\n",
    "from sklearn.ensemble import RandomForestClassifier\n",
    "from sklearn.tree import DecisionTreeClassifier\n",
    "import lightgbm as lgb\n",
    "import xgboost as xgb\n",
    "from xgboost import *\n",
    "\n",
    "from sklearn import metrics\n",
    "from sklearn.metrics import *"
   ]
  },
  {
   "cell_type": "code",
   "execution_count": 4,
   "id": "8e77c4a0",
   "metadata": {},
   "outputs": [
    {
     "data": {
      "text/html": [
       "<div>\n",
       "<style scoped>\n",
       "    .dataframe tbody tr th:only-of-type {\n",
       "        vertical-align: middle;\n",
       "    }\n",
       "\n",
       "    .dataframe tbody tr th {\n",
       "        vertical-align: top;\n",
       "    }\n",
       "\n",
       "    .dataframe thead th {\n",
       "        text-align: right;\n",
       "    }\n",
       "</style>\n",
       "<table border=\"1\" class=\"dataframe\">\n",
       "  <thead>\n",
       "    <tr style=\"text-align: right;\">\n",
       "      <th></th>\n",
       "      <th>tau1</th>\n",
       "      <th>tau2</th>\n",
       "      <th>tau3</th>\n",
       "      <th>tau4</th>\n",
       "      <th>p1</th>\n",
       "      <th>p2</th>\n",
       "      <th>p3</th>\n",
       "      <th>p4</th>\n",
       "      <th>g1</th>\n",
       "      <th>g2</th>\n",
       "      <th>g3</th>\n",
       "      <th>g4</th>\n",
       "      <th>stab</th>\n",
       "      <th>stabf</th>\n",
       "    </tr>\n",
       "  </thead>\n",
       "  <tbody>\n",
       "    <tr>\n",
       "      <th>0</th>\n",
       "      <td>2.959060</td>\n",
       "      <td>3.079885</td>\n",
       "      <td>8.381025</td>\n",
       "      <td>9.780754</td>\n",
       "      <td>3.763085</td>\n",
       "      <td>-0.782604</td>\n",
       "      <td>-1.257395</td>\n",
       "      <td>-1.723086</td>\n",
       "      <td>0.650456</td>\n",
       "      <td>0.859578</td>\n",
       "      <td>0.887445</td>\n",
       "      <td>0.958034</td>\n",
       "      <td>0.055347</td>\n",
       "      <td>unstable</td>\n",
       "    </tr>\n",
       "    <tr>\n",
       "      <th>1</th>\n",
       "      <td>9.304097</td>\n",
       "      <td>4.902524</td>\n",
       "      <td>3.047541</td>\n",
       "      <td>1.369357</td>\n",
       "      <td>5.067812</td>\n",
       "      <td>-1.940058</td>\n",
       "      <td>-1.872742</td>\n",
       "      <td>-1.255012</td>\n",
       "      <td>0.413441</td>\n",
       "      <td>0.862414</td>\n",
       "      <td>0.562139</td>\n",
       "      <td>0.781760</td>\n",
       "      <td>-0.005957</td>\n",
       "      <td>stable</td>\n",
       "    </tr>\n",
       "    <tr>\n",
       "      <th>2</th>\n",
       "      <td>8.971707</td>\n",
       "      <td>8.848428</td>\n",
       "      <td>3.046479</td>\n",
       "      <td>1.214518</td>\n",
       "      <td>3.405158</td>\n",
       "      <td>-1.207456</td>\n",
       "      <td>-1.277210</td>\n",
       "      <td>-0.920492</td>\n",
       "      <td>0.163041</td>\n",
       "      <td>0.766689</td>\n",
       "      <td>0.839444</td>\n",
       "      <td>0.109853</td>\n",
       "      <td>0.003471</td>\n",
       "      <td>unstable</td>\n",
       "    </tr>\n",
       "    <tr>\n",
       "      <th>3</th>\n",
       "      <td>0.716415</td>\n",
       "      <td>7.669600</td>\n",
       "      <td>4.486641</td>\n",
       "      <td>2.340563</td>\n",
       "      <td>3.963791</td>\n",
       "      <td>-1.027473</td>\n",
       "      <td>-1.938944</td>\n",
       "      <td>-0.997374</td>\n",
       "      <td>0.446209</td>\n",
       "      <td>0.976744</td>\n",
       "      <td>0.929381</td>\n",
       "      <td>0.362718</td>\n",
       "      <td>0.028871</td>\n",
       "      <td>unstable</td>\n",
       "    </tr>\n",
       "    <tr>\n",
       "      <th>4</th>\n",
       "      <td>3.134112</td>\n",
       "      <td>7.608772</td>\n",
       "      <td>4.943759</td>\n",
       "      <td>9.857573</td>\n",
       "      <td>3.525811</td>\n",
       "      <td>-1.125531</td>\n",
       "      <td>-1.845975</td>\n",
       "      <td>-0.554305</td>\n",
       "      <td>0.797110</td>\n",
       "      <td>0.455450</td>\n",
       "      <td>0.656947</td>\n",
       "      <td>0.820923</td>\n",
       "      <td>0.049860</td>\n",
       "      <td>unstable</td>\n",
       "    </tr>\n",
       "  </tbody>\n",
       "</table>\n",
       "</div>"
      ],
      "text/plain": [
       "       tau1      tau2      tau3      tau4        p1        p2        p3  \\\n",
       "0  2.959060  3.079885  8.381025  9.780754  3.763085 -0.782604 -1.257395   \n",
       "1  9.304097  4.902524  3.047541  1.369357  5.067812 -1.940058 -1.872742   \n",
       "2  8.971707  8.848428  3.046479  1.214518  3.405158 -1.207456 -1.277210   \n",
       "3  0.716415  7.669600  4.486641  2.340563  3.963791 -1.027473 -1.938944   \n",
       "4  3.134112  7.608772  4.943759  9.857573  3.525811 -1.125531 -1.845975   \n",
       "\n",
       "         p4        g1        g2        g3        g4      stab     stabf  \n",
       "0 -1.723086  0.650456  0.859578  0.887445  0.958034  0.055347  unstable  \n",
       "1 -1.255012  0.413441  0.862414  0.562139  0.781760 -0.005957    stable  \n",
       "2 -0.920492  0.163041  0.766689  0.839444  0.109853  0.003471  unstable  \n",
       "3 -0.997374  0.446209  0.976744  0.929381  0.362718  0.028871  unstable  \n",
       "4 -0.554305  0.797110  0.455450  0.656947  0.820923  0.049860  unstable  "
      ]
     },
     "execution_count": 4,
     "metadata": {},
     "output_type": "execute_result"
    }
   ],
   "source": [
    "df = pd.read_csv(\"Data_for_UCI_named.csv\")\n",
    "df.head()"
   ]
  },
  {
   "cell_type": "code",
   "execution_count": 5,
   "id": "f3b08e97",
   "metadata": {},
   "outputs": [],
   "source": [
    "# Dropping the \"stab\" column\n",
    "df.drop(columns = [\"stab\"], inplace= True)"
   ]
  },
  {
   "cell_type": "code",
   "execution_count": 30,
   "id": "021bc28c",
   "metadata": {},
   "outputs": [],
   "source": [
    "# Encode the target column\n",
    "df[\"stabf\"].replace({\"stable\":1, \"unstable\":0}, inplace= True)"
   ]
  },
  {
   "cell_type": "code",
   "execution_count": 31,
   "id": "d5920567",
   "metadata": {},
   "outputs": [],
   "source": [
    "# Train-test Split\n",
    "X = df.drop(columns=[\"stabf\"])\n",
    "y = df[\"stabf\"]\n",
    "\n",
    "# Splitting the dataset\n",
    "X_train, X_test, y_train, y_test = train_test_split(X, y, test_size=0.2, random_state=1)"
   ]
  },
  {
   "cell_type": "code",
   "execution_count": 32,
   "id": "a446af3a",
   "metadata": {},
   "outputs": [],
   "source": [
    "# Scale the dataset\n",
    "scaler = StandardScaler()\n",
    "\n",
    "X_train = scaler.fit_transform(X_train)\n",
    "X_test = scaler.transform(X_test)"
   ]
  },
  {
   "cell_type": "code",
   "execution_count": 12,
   "id": "dae72f5d",
   "metadata": {},
   "outputs": [],
   "source": [
    "# Defining a helper function to fit models to data and score them\n",
    "def classification_fit_and_score(models, X_train= X_train, X_test= X_test, \n",
    "                                 y_train= y_train, y_test= y_test):\n",
    "    # Looping through the models to fit and score each\n",
    "    for name, model in models.items():\n",
    "\n",
    "        # Fitting to the training data\n",
    "        model.fit(X_train, y_train)\n",
    "\n",
    "        # Making predictions\n",
    "        y_pred = model.predict(X_test)\n",
    "        \n",
    "        # Evaluating the model\n",
    "        model_classification_report = classification_report(y_test, y_pred)\n",
    "        print(f\"{name} Model Classification Report\", \"\\n\", model_classification_report)\n",
    "        \n",
    "        # Defining the Confusion Matrix\n",
    "        model_confusion_matrix = pd.DataFrame(confusion_matrix(y_test, y_pred)).reset_index(drop=True)\n",
    "        print(f\"{name} Confusion Matrix:\", \"\\n\", model_confusion_matrix)\n",
    "        \n",
    "        # Visualizing the Confusion Matrix\n",
    "        # Display Confusion Matrix directly from predictions\n",
    "        ConfusionMatrixDisplay.from_predictions(y_test, y_pred)\n",
    "        plt.show()\n",
    "        \n",
    "    return None"
   ]
  },
  {
   "cell_type": "code",
   "execution_count": 13,
   "id": "90463298",
   "metadata": {},
   "outputs": [],
   "source": [
    "# Instantiating the models\n",
    "dt_model = DecisionTreeClassifier(random_state=1)\n",
    "etc_model = ExtraTreesClassifier(random_state=1)\n",
    "xgb_model = XGBClassifier(random_state=1)\n",
    "lgb_model = lgb.LGBMClassifier(random_state=1)\n",
    "rf_model = RandomForestClassifier(random_state=1)\n",
    "\n",
    "# Create a dictionary of models\n",
    "models = {\n",
    "    \"Decision Tree Classifier\": dt_model,\n",
    "    \"Extra Trees Classifier\": etc_model,\n",
    "    \"XGBoost\": xgb_model,\n",
    "    \"LightGBM\": lgb_model,\n",
    "    \"Random Forest Model\": rf_model\n",
    "}"
   ]
  },
  {
   "cell_type": "code",
   "execution_count": 14,
   "id": "53de9cd2",
   "metadata": {},
   "outputs": [
    {
     "name": "stdout",
     "output_type": "stream",
     "text": [
      "Decision Tree Classifier Model Classification Report \n",
      "               precision    recall  f1-score   support\n",
      "\n",
      "           0       0.89      0.88      0.89      1288\n",
      "           1       0.79      0.80      0.79       712\n",
      "\n",
      "    accuracy                           0.85      2000\n",
      "   macro avg       0.84      0.84      0.84      2000\n",
      "weighted avg       0.85      0.85      0.85      2000\n",
      "\n",
      "Decision Tree Classifier Confusion Matrix: \n",
      "       0    1\n",
      "0  1139  149\n",
      "1   145  567\n"
     ]
    },
    {
     "data": {
      "image/png": "[encoded data removed]",
      "text/plain": [
       "<Figure size 432x288 with 2 Axes>"
      ]
     },
     "metadata": {
      "needs_background": "light"
     },
     "output_type": "display_data"
    },
    {
     "name": "stdout",
     "output_type": "stream",
     "text": [
      "Extra Trees Classifier Model Classification Report \n",
      "               precision    recall  f1-score   support\n",
      "\n",
      "           0       0.92      0.98      0.95      1288\n",
      "           1       0.95      0.84      0.89       712\n",
      "\n",
      "    accuracy                           0.93      2000\n",
      "   macro avg       0.93      0.91      0.92      2000\n",
      "weighted avg       0.93      0.93      0.93      2000\n",
      "\n",
      "Extra Trees Classifier Confusion Matrix: \n",
      "       0    1\n",
      "0  1257   31\n",
      "1   112  600\n"
     ]
    },
    {
     "data": {
      "image/png": "[encoded data removed]",
      "text/plain": [
       "<Figure size 432x288 with 2 Axes>"
      ]
     },
     "metadata": {
      "needs_background": "light"
     },
     "output_type": "display_data"
    },
    {
     "name": "stdout",
     "output_type": "stream",
     "text": [
      "XGBoost Model Classification Report \n",
      "               precision    recall  f1-score   support\n",
      "\n",
      "           0       0.95      0.97      0.96      1288\n",
      "           1       0.94      0.91      0.92       712\n",
      "\n",
      "    accuracy                           0.95      2000\n",
      "   macro avg       0.94      0.94      0.94      2000\n",
      "weighted avg       0.95      0.95      0.95      2000\n",
      "\n",
      "XGBoost Confusion Matrix: \n",
      "       0    1\n",
      "0  1243   45\n",
      "1    64  648\n"
     ]
    },
    {
     "data": {
      "image/png": "[encoded data removed]",
      "text/plain": [
       "<Figure size 432x288 with 2 Axes>"
      ]
     },
     "metadata": {
      "needs_background": "light"
     },
     "output_type": "display_data"
    },
    {
     "name": "stdout",
     "output_type": "stream",
     "text": [
      "LightGBM Model Classification Report \n",
      "               precision    recall  f1-score   support\n",
      "\n",
      "           0       0.95      0.96      0.95      1288\n",
      "           1       0.93      0.90      0.91       712\n",
      "\n",
      "    accuracy                           0.94      2000\n",
      "   macro avg       0.94      0.93      0.93      2000\n",
      "weighted avg       0.94      0.94      0.94      2000\n",
      "\n",
      "LightGBM Confusion Matrix: \n",
      "       0    1\n",
      "0  1238   50\n",
      "1    71  641\n"
     ]
    },
    {
     "data": {
      "image/png": "[encoded data removed]",
      "text/plain": [
       "<Figure size 432x288 with 2 Axes>"
      ]
     },
     "metadata": {
      "needs_background": "light"
     },
     "output_type": "display_data"
    },
    {
     "name": "stdout",
     "output_type": "stream",
     "text": [
      "Random Forest Model Model Classification Report \n",
      "               precision    recall  f1-score   support\n",
      "\n",
      "           0       0.93      0.96      0.95      1288\n",
      "           1       0.93      0.87      0.90       712\n",
      "\n",
      "    accuracy                           0.93      2000\n",
      "   macro avg       0.93      0.92      0.92      2000\n",
      "weighted avg       0.93      0.93      0.93      2000\n",
      "\n",
      "Random Forest Model Confusion Matrix: \n",
      "       0    1\n",
      "0  1238   50\n",
      "1    91  621\n"
     ]
    },
    {
     "data": {
      "image/png": "[encoded data removed]",
      "text/plain": [
       "<Figure size 432x288 with 2 Axes>"
      ]
     },
     "metadata": {
      "needs_background": "light"
     },
     "output_type": "display_data"
    }
   ],
   "source": [
    "summary = classification_fit_and_score(models = models)"
   ]
  },
  {
   "cell_type": "code",
   "execution_count": 35,
   "id": "f7f77d0a",
   "metadata": {},
   "outputs": [],
   "source": [
    "# Define a helper function to evaluate the models at a go\n",
    "def model_evaluation(fit_models, X_test, y_test):\n",
    "    results = []\n",
    "    for name, model in fit_models.items():\n",
    "        pred = model.predict(X_test)\n",
    "\n",
    "        f2_score = fbeta_score(y_test, pred, beta=0.5)\n",
    "        f2_score = \"{:.5f}\".format(f2_score)\n",
    "\n",
    "        results.append([\n",
    "            name,\n",
    "            precision_score(y_test, pred),\n",
    "            recall_score(y_test, pred),\n",
    "            f1_score(y_test, pred),\n",
    "            accuracy_score(y_test, pred)\n",
    "        ])\n",
    "\n",
    "    eval_df = pd.DataFrame(results, columns=[\"model\", \"precision\", \"recall\", \"f1_weighted\", \"accuracy\"])\n",
    "    eval_df.set_index(\"model\", inplace=True)\n",
    "    return eval_df"
   ]
  },
  {
   "cell_type": "code",
   "execution_count": 36,
   "id": "ef0f5e54",
   "metadata": {},
   "outputs": [
    {
     "data": {
      "text/html": [
       "<div>\n",
       "<style scoped>\n",
       "    .dataframe tbody tr th:only-of-type {\n",
       "        vertical-align: middle;\n",
       "    }\n",
       "\n",
       "    .dataframe tbody tr th {\n",
       "        vertical-align: top;\n",
       "    }\n",
       "\n",
       "    .dataframe thead th {\n",
       "        text-align: right;\n",
       "    }\n",
       "</style>\n",
       "<table border=\"1\" class=\"dataframe\">\n",
       "  <thead>\n",
       "    <tr style=\"text-align: right;\">\n",
       "      <th></th>\n",
       "      <th>precision</th>\n",
       "      <th>recall</th>\n",
       "      <th>f1_weighted</th>\n",
       "      <th>accuracy</th>\n",
       "    </tr>\n",
       "    <tr>\n",
       "      <th>model</th>\n",
       "      <th></th>\n",
       "      <th></th>\n",
       "      <th></th>\n",
       "      <th></th>\n",
       "    </tr>\n",
       "  </thead>\n",
       "  <tbody>\n",
       "    <tr>\n",
       "      <th>Decision Tree Classifier</th>\n",
       "      <td>0.791899</td>\n",
       "      <td>0.796348</td>\n",
       "      <td>0.794118</td>\n",
       "      <td>0.8530</td>\n",
       "    </tr>\n",
       "    <tr>\n",
       "      <th>Extra Trees Classifier</th>\n",
       "      <td>0.950872</td>\n",
       "      <td>0.842697</td>\n",
       "      <td>0.893522</td>\n",
       "      <td>0.9285</td>\n",
       "    </tr>\n",
       "    <tr>\n",
       "      <th>XGBoost</th>\n",
       "      <td>0.935065</td>\n",
       "      <td>0.910112</td>\n",
       "      <td>0.922420</td>\n",
       "      <td>0.9455</td>\n",
       "    </tr>\n",
       "    <tr>\n",
       "      <th>LightGBM</th>\n",
       "      <td>0.927641</td>\n",
       "      <td>0.900281</td>\n",
       "      <td>0.913756</td>\n",
       "      <td>0.9395</td>\n",
       "    </tr>\n",
       "    <tr>\n",
       "      <th>Random Forest Model</th>\n",
       "      <td>0.925484</td>\n",
       "      <td>0.872191</td>\n",
       "      <td>0.898048</td>\n",
       "      <td>0.9295</td>\n",
       "    </tr>\n",
       "  </tbody>\n",
       "</table>\n",
       "</div>"
      ],
      "text/plain": [
       "                          precision    recall  f1_weighted  accuracy\n",
       "model                                                               \n",
       "Decision Tree Classifier   0.791899  0.796348     0.794118    0.8530\n",
       "Extra Trees Classifier     0.950872  0.842697     0.893522    0.9285\n",
       "XGBoost                    0.935065  0.910112     0.922420    0.9455\n",
       "LightGBM                   0.927641  0.900281     0.913756    0.9395\n",
       "Random Forest Model        0.925484  0.872191     0.898048    0.9295"
      ]
     },
     "execution_count": 36,
     "metadata": {},
     "output_type": "execute_result"
    }
   ],
   "source": [
    "model_eval = model_evaluation(models, X_test, y_test)\n",
    "model_eval"
   ]
  },
  {
   "cell_type": "code",
   "execution_count": 37,
   "id": "5c427f55",
   "metadata": {},
   "outputs": [],
   "source": [
    "# Define the values for the RandomizedSearchCV\n",
    "random_grid = {\"n_estimators\": list(range(100, 1001, 100)),\n",
    "               \"min_samples_split\": list(range(2, 10, 1)),\n",
    "               \"min_samples_leaf\": list(range(3, 10, 1)),\n",
    "               \"max_features\": [None, \"auto\", \"log2\"],\n",
    "               }"
   ]
  },
  {
   "cell_type": "code",
   "execution_count": 38,
   "id": "a4d9f89c",
   "metadata": {},
   "outputs": [
    {
     "name": "stdout",
     "output_type": "stream",
     "text": [
      "Fitting 5 folds for each of 10 candidates, totalling 50 fits\n"
     ]
    },
    {
     "data": {
      "text/plain": [
       "RandomizedSearchCV(cv=5, estimator=ExtraTreesClassifier(random_state=1),\n",
       "                   n_jobs=-1,\n",
       "                   param_distributions={'max_features': [None, 'auto', 'log2'],\n",
       "                                        'min_samples_leaf': [3, 4, 5, 6, 7, 8,\n",
       "                                                             9],\n",
       "                                        'min_samples_split': [2, 3, 4, 5, 6, 7,\n",
       "                                                              8, 9],\n",
       "                                        'n_estimators': [100, 200, 300, 400,\n",
       "                                                         500, 600, 700, 800,\n",
       "                                                         900, 1000]},\n",
       "                   random_state=1, verbose=1)"
      ]
     },
     "execution_count": 38,
     "metadata": {},
     "output_type": "execute_result"
    }
   ],
   "source": [
    "# Run the RandomizedSearch Cross-Validation with the above set of Parameters\n",
    "etc_rs_cv_model = RandomizedSearchCV(estimator= etc_model,\n",
    "                                     param_distributions= random_grid,\n",
    "                                     n_iter= 10,\n",
    "                                     cv= 5,\n",
    "                                     random_state= 1,\n",
    "                                     n_jobs= -1, \n",
    "                                     verbose = 1)\n",
    "\n",
    "# Fit the model to the training data\n",
    "etc_rs_cv_model.fit(X_train, y_train)"
   ]
  },
  {
   "cell_type": "code",
   "execution_count": 39,
   "id": "4375edc8",
   "metadata": {},
   "outputs": [
    {
     "name": "stdout",
     "output_type": "stream",
     "text": [
      "The best combination of hyperparameters for the model will be:\n",
      "max_features : None\n",
      "min_samples_leaf : 4\n",
      "min_samples_split : 8\n",
      "n_estimators : 500\n"
     ]
    }
   ],
   "source": [
    "# Looking at the best combination of hyperparameters for the model\n",
    "best_params = etc_rs_cv_model.best_params_\n",
    "print(\"The best combination of hyperparameters for the model will be:\")\n",
    "for param_name in sorted(best_params.keys()):\n",
    "    print(f\"{param_name} : {best_params[param_name]}\")"
   ]
  },
  {
   "cell_type": "code",
   "execution_count": 40,
   "id": "ad75305a",
   "metadata": {},
   "outputs": [
    {
     "data": {
      "text/plain": [
       "ExtraTreesClassifier(max_features=None, min_samples_leaf=4, min_samples_split=8,\n",
       "                     n_estimators=500, random_state=1)"
      ]
     },
     "execution_count": 40,
     "metadata": {},
     "output_type": "execute_result"
    }
   ],
   "source": [
    "# Train a new model with the parameters from the RandomizedSearchCV\n",
    "new_extra_trees_model = ExtraTreesClassifier(random_state=1, \n",
    "                                             max_features= None, \n",
    "                                             min_samples_leaf = 4, \n",
    "                                             min_samples_split = 8, \n",
    "                                             n_estimators = 500)\n",
    "\n",
    "# Fit the model to the training data\n",
    "new_extra_trees_model.fit(X_train, y_train)"
   ]
  },
  {
   "cell_type": "code",
   "execution_count": 41,
   "id": "24b1f5ff",
   "metadata": {},
   "outputs": [
    {
     "data": {
      "text/html": [
       "<div>\n",
       "<style scoped>\n",
       "    .dataframe tbody tr th:only-of-type {\n",
       "        vertical-align: middle;\n",
       "    }\n",
       "\n",
       "    .dataframe tbody tr th {\n",
       "        vertical-align: top;\n",
       "    }\n",
       "\n",
       "    .dataframe thead th {\n",
       "        text-align: right;\n",
       "    }\n",
       "</style>\n",
       "<table border=\"1\" class=\"dataframe\">\n",
       "  <thead>\n",
       "    <tr style=\"text-align: right;\">\n",
       "      <th></th>\n",
       "      <th>precision</th>\n",
       "      <th>recall</th>\n",
       "      <th>f1_weighted</th>\n",
       "      <th>accuracy</th>\n",
       "    </tr>\n",
       "    <tr>\n",
       "      <th>model</th>\n",
       "      <th></th>\n",
       "      <th></th>\n",
       "      <th></th>\n",
       "      <th></th>\n",
       "    </tr>\n",
       "  </thead>\n",
       "  <tbody>\n",
       "    <tr>\n",
       "      <th>Randomized Search Extra Trees</th>\n",
       "      <td>0.92511</td>\n",
       "      <td>0.884831</td>\n",
       "      <td>0.904523</td>\n",
       "      <td>0.9335</td>\n",
       "    </tr>\n",
       "    <tr>\n",
       "      <th>New Extra Trees</th>\n",
       "      <td>0.92511</td>\n",
       "      <td>0.884831</td>\n",
       "      <td>0.904523</td>\n",
       "      <td>0.9335</td>\n",
       "    </tr>\n",
       "  </tbody>\n",
       "</table>\n",
       "</div>"
      ],
      "text/plain": [
       "                               precision    recall  f1_weighted  accuracy\n",
       "model                                                                    \n",
       "Randomized Search Extra Trees    0.92511  0.884831     0.904523    0.9335\n",
       "New Extra Trees                  0.92511  0.884831     0.904523    0.9335"
      ]
     },
     "execution_count": 41,
     "metadata": {},
     "output_type": "execute_result"
    }
   ],
   "source": [
    "new_model_eval = model_evaluation(fit_models= {\"Randomized Search Extra Trees\": etc_rs_cv_model, \n",
    "                                                \"New Extra Trees\": new_extra_trees_model}, \n",
    "                                                X_test = X_test, y_test = y_test)\n",
    "new_model_eval"
   ]
  },
  {
   "cell_type": "code",
   "execution_count": 43,
   "id": "97882fa6",
   "metadata": {},
   "outputs": [
    {
     "data": {
      "text/html": [
       "<div>\n",
       "<style scoped>\n",
       "    .dataframe tbody tr th:only-of-type {\n",
       "        vertical-align: middle;\n",
       "    }\n",
       "\n",
       "    .dataframe tbody tr th {\n",
       "        vertical-align: top;\n",
       "    }\n",
       "\n",
       "    .dataframe thead th {\n",
       "        text-align: right;\n",
       "    }\n",
       "</style>\n",
       "<table border=\"1\" class=\"dataframe\">\n",
       "  <thead>\n",
       "    <tr style=\"text-align: right;\">\n",
       "      <th></th>\n",
       "      <th>Feature</th>\n",
       "      <th>Importance</th>\n",
       "    </tr>\n",
       "  </thead>\n",
       "  <tbody>\n",
       "    <tr>\n",
       "      <th>1</th>\n",
       "      <td>tau2</td>\n",
       "      <td>0.135056</td>\n",
       "    </tr>\n",
       "    <tr>\n",
       "      <th>0</th>\n",
       "      <td>tau1</td>\n",
       "      <td>0.133123</td>\n",
       "    </tr>\n",
       "    <tr>\n",
       "      <th>3</th>\n",
       "      <td>tau4</td>\n",
       "      <td>0.130239</td>\n",
       "    </tr>\n",
       "    <tr>\n",
       "      <th>2</th>\n",
       "      <td>tau3</td>\n",
       "      <td>0.130150</td>\n",
       "    </tr>\n",
       "    <tr>\n",
       "      <th>10</th>\n",
       "      <td>g3</td>\n",
       "      <td>0.111799</td>\n",
       "    </tr>\n",
       "    <tr>\n",
       "      <th>11</th>\n",
       "      <td>g4</td>\n",
       "      <td>0.108436</td>\n",
       "    </tr>\n",
       "    <tr>\n",
       "      <th>9</th>\n",
       "      <td>g2</td>\n",
       "      <td>0.107800</td>\n",
       "    </tr>\n",
       "    <tr>\n",
       "      <th>8</th>\n",
       "      <td>g1</td>\n",
       "      <td>0.102993</td>\n",
       "    </tr>\n",
       "    <tr>\n",
       "      <th>6</th>\n",
       "      <td>p3</td>\n",
       "      <td>0.010956</td>\n",
       "    </tr>\n",
       "    <tr>\n",
       "      <th>5</th>\n",
       "      <td>p2</td>\n",
       "      <td>0.010876</td>\n",
       "    </tr>\n",
       "    <tr>\n",
       "      <th>7</th>\n",
       "      <td>p4</td>\n",
       "      <td>0.010288</td>\n",
       "    </tr>\n",
       "    <tr>\n",
       "      <th>4</th>\n",
       "      <td>p1</td>\n",
       "      <td>0.008284</td>\n",
       "    </tr>\n",
       "  </tbody>\n",
       "</table>\n",
       "</div>"
      ],
      "text/plain": [
       "   Feature  Importance\n",
       "1     tau2    0.135056\n",
       "0     tau1    0.133123\n",
       "3     tau4    0.130239\n",
       "2     tau3    0.130150\n",
       "10      g3    0.111799\n",
       "11      g4    0.108436\n",
       "9       g2    0.107800\n",
       "8       g1    0.102993\n",
       "6       p3    0.010956\n",
       "5       p2    0.010876\n",
       "7       p4    0.010288\n",
       "4       p1    0.008284"
      ]
     },
     "execution_count": 43,
     "metadata": {},
     "output_type": "execute_result"
    }
   ],
   "source": [
    "# Create a dataframe of the features and their importances for plotting\n",
    "feature_importances = pd.DataFrame(new_extra_trees_model.feature_importances_, \n",
    "                                   index= dataset.drop(columns = [\"stabf\"]).columns).reset_index()\n",
    "feature_importances.rename(columns= {\"index\": \"Feature\", 0: \"Importance\"},inplace= True)\n",
    "feature_importances.sort_values(by= \"Importance\", ascending= False, inplace= True)\n",
    "feature_importances"
   ]
  }
 ],
 "metadata": {
  "kernelspec": {
   "display_name": "Python 3 (ipykernel)",
   "language": "python",
   "name": "python3"
  },
  "language_info": {
   "codemirror_mode": {
    "name": "ipython",
    "version": 3
   },
   "file_extension": ".py",
   "mimetype": "text/x-python",
   "name": "python",
   "nbconvert_exporter": "python",
   "pygments_lexer": "ipython3",
   "version": "3.9.12"
  }
 },
 "nbformat": 4,
 "nbformat_minor": 5
}
